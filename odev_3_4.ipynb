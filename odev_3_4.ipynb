{
 "cells": [
  {
   "cell_type": "code",
   "execution_count": 1,
   "metadata": {},
   "outputs": [],
   "source": [
    "### Soru 1:\n",
    "## Bu soruda, merkezi limit teoreminin çalışıp çalışmadığını test edeceksiniz. \n",
    "## İki adet normal dağılıma sahip 1000 gözlem içeren değişken üreteceksiniz. \n",
    "## Bu değişkenlerin, ortalama ve standart sapmasını kendiniz belirleyebilirsiniz. \n",
    "## Yapmanız gereken, ilk değişkeni 50 kere üretin ve her seferinde bu değişkenin ortalamasını alın. \n",
    "## İkinci değişkeni ise 1000 kere üretin ve yine her seferinde bu değişkenin ortalamasını alın. \n",
    "## Daha sonra, iki değişkenin hesapladığınız ortalamalarının histogramını çizdirin. \n",
    "## Hangi değişkenin ortalamalarının dağılımı normal dağılıma daha yakın? Sizce Merkezi Limit Theoremi çalışmış görünüyor mu?"
   ]
  },
  {
   "cell_type": "code",
   "execution_count": 13,
   "metadata": {},
   "outputs": [
    {
     "data": {
      "image/png": "[encoded data removed]",
      "text/plain": [
       "<Figure size 720x360 with 1 Axes>"
      ]
     },
     "metadata": {
      "needs_background": "light"
     },
     "output_type": "display_data"
    }
   ],
   "source": [
    "import numpy as np\n",
    "import matplotlib.pyplot as plt\n",
    "\n",
    "plt.figure(figsize=(10,5))\n",
    "ort1=[]\n",
    "for i in range(50):\n",
    "    pop = np.random.normal(10, 0.2, 1000)\n",
    "    ort1.append(np.mean(pop))\n",
    "plt.hist(ort1, alpha=0.5, label='Örneklem 1')   \n",
    "\n",
    "ort2=[]\n",
    "for j in range(1000):\n",
    "    pop = np.random.normal(10, 0.2, 1000)\n",
    "    ort2.append(np.mean(pop))\n",
    "plt.hist(ort2, alpha=0.5, label='Örneklem 2')\n",
    "plt.legend(loc='upper right') \n",
    "plt.show()\n",
    "\n",
    "## Deneme sayisi arttikca normallesmenin ortaya ciktigini goruyoruz, evet Merkezi Limit Theoremi calismis gorunuyor."
   ]
  },
  {
   "cell_type": "code",
   "execution_count": null,
   "metadata": {},
   "outputs": [],
   "source": [
    "### Soru 2 :\n",
    "## İki madeni paramızın olduğunu varsayalım. \n",
    "## Bunlardan bir tanesi adil (yani, yeteri kadar deneme yapıldığında yazı veya tura 1/2 olasılığına yaklaşmakta), \n",
    "## diğeri ise adil değil ve atıldığında 3/4 olasılığında tura elde edilmektedir. \n",
    "## Herhangi biri seçilip, n kere deneme yapıldığında,Büyük Sayılar Yasası uzun vadede gelecek tura sayısını tahmin etmemize izin verir mi? \n",
    "## Çok sayıda deneme yapıldığında, hangi paranın seçildiğini bilebilir miyiz?\n"
   ]
  },
  {
   "cell_type": "markdown",
   "metadata": {},
   "source": [
    "Teoriye gore; Olasilik 1/2 oldugunda (yani adil parada) uzun vadede yazi tura sayisi esit olur, fakat 3/4 olunca da tura fazla gelecek yani cok sayida deneme yapilinca belli olacak paranin hileli olup olmadigi. Hileli parayla cok sayida deneme yapildiginda hile ortaya cikar."
   ]
  },
  {
   "cell_type": "code",
   "execution_count": null,
   "metadata": {},
   "outputs": [],
   "source": []
  }
 ],
 "metadata": {
  "kernelspec": {
   "display_name": "Python 3",
   "language": "python",
   "name": "python3"
  },
  "language_info": {
   "codemirror_mode": {
    "name": "ipython",
    "version": 3
   },
   "file_extension": ".py",
   "mimetype": "text/x-python",
   "name": "python",
   "nbconvert_exporter": "python",
   "pygments_lexer": "ipython3",
   "version": "3.7.3"
  }
 },
 "nbformat": 4,
 "nbformat_minor": 2
}
