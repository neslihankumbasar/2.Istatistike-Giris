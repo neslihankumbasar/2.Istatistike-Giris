{
 "cells": [
  {
   "cell_type": "code",
   "execution_count": 3,
   "metadata": {},
   "outputs": [
    {
     "name": "stdout",
     "output_type": "stream",
     "text": [
      "0    a\n",
      "1    b\n",
      "2    c\n",
      "3    d\n",
      "dtype: category\n",
      "Categories (4, object): [a, b, c, d]\n",
      "0    1\n",
      "1    3\n",
      "2    5\n",
      "3    7\n",
      "4    9\n",
      "dtype: int64\n"
     ]
    }
   ],
   "source": [
    "import pandas as pd\n",
    "nitel=pd.Series(['a','b','c','d'], dtype='category')\n",
    "print(nitel)\n",
    "\n",
    "nicel=pd.Series([1,3,5,7,9])\n",
    "print(nicel)"
   ]
  },
  {
   "cell_type": "code",
   "execution_count": 4,
   "metadata": {},
   "outputs": [
    {
     "name": "stdout",
     "output_type": "stream",
     "text": [
      "[62.30424724 74.63142351 79.92261675 63.47983278 50.71263885 63.41039392\n",
      " 50.95434158 73.15170583 71.56151534 76.62037167 69.32350758 67.10555365\n",
      " 67.60433    88.08758487 72.88758326 67.59293864 62.82775953 77.71543483\n",
      " 68.76628576 65.95571682 73.96983114 93.09168192 62.22570445 63.13110846\n",
      " 74.75000926 75.01408574 68.65993496 60.4248669  59.11078761 64.21543685\n",
      " 76.30415684 66.23598019 66.71042119 80.03292189 69.33376518 68.31525787\n",
      " 65.92187763 67.8589995  76.92512786 74.72795672 75.58592213 58.03397391\n",
      " 72.84613421 71.00064501 64.04150026 80.27260477 61.36237143 73.93412229\n",
      " 84.68992744 80.04167612 56.95826117 86.64816443 76.59031581 73.36614979\n",
      " 53.54586951 84.52908974 66.27488647 73.71516575 59.44560191 67.21142172\n",
      " 77.53111435 58.65528163 66.63141103 64.59044649 67.05482005 66.84885249\n",
      " 67.66695745 73.23164108 65.49338356 67.85128782 74.67540762 73.69614614\n",
      " 70.2924608  80.61310884 76.04206456 72.67679323 69.10184766 80.17697236\n",
      " 67.05750435 56.78656035 63.53553471 75.18701621 65.19576943 62.90075875\n",
      " 59.83452877 73.24284084 60.85115823 62.28193064 74.07572927 66.56236026\n",
      " 59.64158164 70.84292651 64.82085796 86.51472575 72.95972858 65.97026585\n",
      " 76.90538626 48.62328229 66.30643713 64.15245172 60.09010211 62.67207401\n",
      " 58.13354444 60.81913302 66.0767585  64.58844849 63.47008533 49.12227529\n",
      " 64.65306548 64.38186131 66.49110783 65.66430218 59.06113331 66.79898471\n",
      " 63.0724561  64.97050889 64.53214028 59.41239372 54.96922133 64.60270953\n",
      " 66.80471715 67.70535868 50.37381533 68.71264239 61.75663843 69.94290124\n",
      " 57.21854006 63.49028791 67.90709107 64.41934651 61.06436202 70.04593452\n",
      " 62.0355632  61.51265562 62.43255467 65.89651882 65.57562642 63.16543882\n",
      " 58.44766766 64.08965345 73.65028896 54.44386335 69.2952205  63.49739904\n",
      " 68.58717626 63.26660097 65.13203825 65.77654643 58.4042339  68.724353\n",
      " 55.66928997 70.64028074 64.81889247 70.9801878  59.68661183 68.43182931\n",
      " 68.85002865 57.55030419 62.68480383 65.75708214 61.9121668  66.97858053\n",
      " 65.90852275 64.73506505 67.72714082 66.02060277 72.15693948 55.18228975\n",
      " 68.47913091 59.67929416 73.87126604 71.24471322 65.72739604 64.40601285\n",
      " 62.30327467 67.79185203 67.41552696 64.58880165 67.66398307 62.97679346\n",
      " 73.83682023 70.44273588 66.63649384 64.86761299 64.56833313 65.23249329\n",
      " 60.96413259 70.25666329 59.18141108 64.96996155 61.70189866 66.03364134\n",
      " 60.89564245 73.69495561 66.84924765 61.28589134 60.01374268 55.09086493\n",
      " 68.69636013 55.22863937]\n"
     ]
    }
   ],
   "source": [
    "import numpy as np\n",
    "df=pd.DataFrame()\n",
    "df['age'] = [28, 42, 27, 24, 35, 54, 35, 37]\n",
    "rassal=np.append(np.random.normal(69, 8, 100), np.random.normal(64, 5, 100))\n",
    "print(rassal)"
   ]
  },
  {
   "cell_type": "code",
   "execution_count": 9,
   "metadata": {},
   "outputs": [
    {
     "name": "stdout",
     "output_type": "stream",
     "text": [
      "35.25\n",
      "66.78996188803211\n"
     ]
    }
   ],
   "source": [
    "sum(df[\"age\"])/len(df[\"age\"])\n",
    "sum(rassal)/len(rassal)\n",
    "print(np.mean(df[\"age\"]))\n",
    "print(np.mean(rassal))"
   ]
  },
  {
   "cell_type": "code",
   "execution_count": 11,
   "metadata": {},
   "outputs": [
    {
     "name": "stdout",
     "output_type": "stream",
     "text": [
      "35.0\n",
      "35.0\n"
     ]
    }
   ],
   "source": [
    "import statistics\n",
    "print(statistics.median(df[\"age\"]))\n",
    "print(np.median(df[\"age\"]))"
   ]
  },
  {
   "cell_type": "code",
   "execution_count": 13,
   "metadata": {},
   "outputs": [
    {
     "name": "stdout",
     "output_type": "stream",
     "text": [
      "35\n"
     ]
    }
   ],
   "source": [
    "import statistics\n",
    "print(statistics.mode(df[\"age\"]))"
   ]
  },
  {
   "cell_type": "code",
   "execution_count": 16,
   "metadata": {},
   "outputs": [
    {
     "data": {
      "text/plain": [
       "35"
      ]
     },
     "execution_count": 16,
     "metadata": {},
     "output_type": "execute_result"
    }
   ],
   "source": [
    "(values,counts)=np.unique(df['age'], return_counts=True)\n",
    "ind=np.argmax(counts)\n",
    "values[ind]"
   ]
  },
  {
   "cell_type": "code",
   "execution_count": 17,
   "metadata": {},
   "outputs": [
    {
     "name": "stdout",
     "output_type": "stream",
     "text": [
      "92.5\n",
      "92.5\n"
     ]
    }
   ],
   "source": [
    "print(np.var(df[\"age\"], ddof=1))\n",
    "print(df[\"age\"].var())"
   ]
  },
  {
   "cell_type": "code",
   "execution_count": 19,
   "metadata": {},
   "outputs": [
    {
     "data": {
      "text/plain": [
       "9.617692030835672"
      ]
     },
     "execution_count": 19,
     "metadata": {},
     "output_type": "execute_result"
    }
   ],
   "source": [
    "np.std(df[\"age\"],ddof=1)"
   ]
  },
  {
   "cell_type": "code",
   "execution_count": 20,
   "metadata": {},
   "outputs": [
    {
     "data": {
      "text/plain": [
       "3.4003676271838605"
      ]
     },
     "execution_count": 20,
     "metadata": {},
     "output_type": "execute_result"
    }
   ],
   "source": [
    "np.std(df[\"age\"],ddof=1)/np.sqrt(len(df[\"age\"]))"
   ]
  },
  {
   "cell_type": "code",
   "execution_count": 27,
   "metadata": {},
   "outputs": [
    {
     "data": {
      "image/png": "[encoded data removed]",
      "text/plain": [
       "<Figure size 432x288 with 2 Axes>"
      ]
     },
     "metadata": {
      "needs_background": "light"
     },
     "output_type": "display_data"
    },
    {
     "name": "stdout",
     "output_type": "stream",
     "text": [
      "low_var      94.799307\n",
      "high_var    447.208008\n",
      "dtype: float64\n",
      "low_var      15.614393\n",
      "high_var   -269.108458\n",
      "dtype: float64\n"
     ]
    }
   ],
   "source": [
    "import matplotlib.pyplot as plt\n",
    "pop=pd.DataFrame()\n",
    "pop[\"low_var\"]=np.random.normal(60,10,10000)\n",
    "pop[\"high_var\"]=np.random.normal(60,100,10000)\n",
    "pop.hist(layout=(2,1), sharex=True)\n",
    "plt.show()\n",
    "print(pop.max())\n",
    "print(pop.min())"
   ]
  },
  {
   "cell_type": "code",
   "execution_count": 29,
   "metadata": {},
   "outputs": [
    {
     "data": {
      "image/png": "[encoded data removed]",
      "text/plain": [
       "<Figure size 432x288 with 2 Axes>"
      ]
     },
     "metadata": {
      "needs_background": "light"
     },
     "output_type": "display_data"
    },
    {
     "name": "stdout",
     "output_type": "stream",
     "text": [
      "low_var     58.884231\n",
      "high_var    92.629382\n",
      "dtype: float64\n",
      "low_var      9.288380\n",
      "high_var    93.507041\n",
      "dtype: float64\n"
     ]
    }
   ],
   "source": [
    "sample=pd.DataFrame()\n",
    "sample[\"low_var\"]=np.random.choice(pop[\"low_var\"],100)\n",
    "sample[\"high_var\"]=np.random.choice(pop[\"high_var\"],100)\n",
    "sample.hist()\n",
    "plt.show()\n",
    "print(sample.mean())\n",
    "print(sample.std(ddof=1))"
   ]
  },
  {
   "cell_type": "code",
   "execution_count": 31,
   "metadata": {},
   "outputs": [
    {
     "name": "stdout",
     "output_type": "stream",
     "text": [
      "<class 'pandas.core.frame.DataFrame'>\n",
      "RangeIndex: 200 entries, 0 to 199\n",
      "Data columns (total 3 columns):\n",
      "gender    200 non-null object\n",
      "height    200 non-null float64\n",
      "weight    200 non-null float64\n",
      "dtypes: float64(2), object(1)\n",
      "memory usage: 4.8+ KB\n"
     ]
    }
   ],
   "source": [
    "import pandas as pd\n",
    "import numpy as np\n",
    "data=pd.DataFrame()\n",
    "data['gender']=['male']*100+['female']*100\n",
    "data['height']=np.append(np.random.normal(69, 8, 100), np.random.normal(64, 5, 100))\n",
    "data['weight']=np.append(np.random.normal(195, 25, 100), np.random.normal(166, 15, 100))\n",
    "data.info()"
   ]
  },
  {
   "cell_type": "code",
   "execution_count": 32,
   "metadata": {},
   "outputs": [
    {
     "data": {
      "text/html": [
       "<div>\n",
       "<style scoped>\n",
       "    .dataframe tbody tr th:only-of-type {\n",
       "        vertical-align: middle;\n",
       "    }\n",
       "\n",
       "    .dataframe tbody tr th {\n",
       "        vertical-align: top;\n",
       "    }\n",
       "\n",
       "    .dataframe thead th {\n",
       "        text-align: right;\n",
       "    }\n",
       "</style>\n",
       "<table border=\"1\" class=\"dataframe\">\n",
       "  <thead>\n",
       "    <tr style=\"text-align: right;\">\n",
       "      <th></th>\n",
       "      <th>gender</th>\n",
       "      <th>height</th>\n",
       "      <th>weight</th>\n",
       "    </tr>\n",
       "  </thead>\n",
       "  <tbody>\n",
       "    <tr>\n",
       "      <th>0</th>\n",
       "      <td>male</td>\n",
       "      <td>49.269921</td>\n",
       "      <td>193.826494</td>\n",
       "    </tr>\n",
       "    <tr>\n",
       "      <th>1</th>\n",
       "      <td>male</td>\n",
       "      <td>79.183028</td>\n",
       "      <td>161.935584</td>\n",
       "    </tr>\n",
       "    <tr>\n",
       "      <th>2</th>\n",
       "      <td>male</td>\n",
       "      <td>72.697802</td>\n",
       "      <td>154.094022</td>\n",
       "    </tr>\n",
       "    <tr>\n",
       "      <th>3</th>\n",
       "      <td>male</td>\n",
       "      <td>70.229152</td>\n",
       "      <td>170.880061</td>\n",
       "    </tr>\n",
       "    <tr>\n",
       "      <th>4</th>\n",
       "      <td>male</td>\n",
       "      <td>62.219246</td>\n",
       "      <td>228.108330</td>\n",
       "    </tr>\n",
       "  </tbody>\n",
       "</table>\n",
       "</div>"
      ],
      "text/plain": [
       "  gender     height      weight\n",
       "0   male  49.269921  193.826494\n",
       "1   male  79.183028  161.935584\n",
       "2   male  72.697802  154.094022\n",
       "3   male  70.229152  170.880061\n",
       "4   male  62.219246  228.108330"
      ]
     },
     "execution_count": 32,
     "metadata": {},
     "output_type": "execute_result"
    }
   ],
   "source": [
    "data.head()"
   ]
  },
  {
   "cell_type": "code",
   "execution_count": 33,
   "metadata": {},
   "outputs": [
    {
     "data": {
      "text/plain": [
       "66.79247492162102"
      ]
     },
     "execution_count": 33,
     "metadata": {},
     "output_type": "execute_result"
    }
   ],
   "source": [
    "data.height.mean()"
   ]
  },
  {
   "cell_type": "code",
   "execution_count": 34,
   "metadata": {},
   "outputs": [
    {
     "data": {
      "text/plain": [
       "7.831102135190572"
      ]
     },
     "execution_count": 34,
     "metadata": {},
     "output_type": "execute_result"
    }
   ],
   "source": [
    "data.height.std()"
   ]
  },
  {
   "cell_type": "code",
   "execution_count": 35,
   "metadata": {},
   "outputs": [
    {
     "name": "stdout",
     "output_type": "stream",
     "text": [
      "Agirlik ortalamasi: 179.20790822403242\n"
     ]
    }
   ],
   "source": [
    "weight_mean=data.weight.mean()\n",
    "data.weight.fillna(weight_mean)\n",
    "print(\"Agirlik ortalamasi: {}\".format(weight_mean))"
   ]
  },
  {
   "cell_type": "code",
   "execution_count": null,
   "metadata": {},
   "outputs": [],
   "source": []
  }
 ],
 "metadata": {
  "kernelspec": {
   "display_name": "Python 3",
   "language": "python",
   "name": "python3"
  },
  "language_info": {
   "codemirror_mode": {
    "name": "ipython",
    "version": 3
   },
   "file_extension": ".py",
   "mimetype": "text/x-python",
   "name": "python",
   "nbconvert_exporter": "python",
   "pygments_lexer": "ipython3",
   "version": "3.7.3"
  }
 },
 "nbformat": 4,
 "nbformat_minor": 2
}
