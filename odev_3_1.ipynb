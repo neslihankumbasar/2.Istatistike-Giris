{
 "cells": [
  {
   "cell_type": "code",
   "execution_count": 1,
   "metadata": {},
   "outputs": [],
   "source": [
    "### Soru 1:\n",
    "## numpy kütüphanesini kullanarak üreteceğiniz 3 farklı veri aracılığı ile \n",
    "## merkezi eğilim ve dağılım ölçümlerini \n",
    "## hem yukarıda verilen matematiksel formülle hem de python'da hazır bulunan (built-in) kodlar aracılığıyla analiz edin!!!"
   ]
  },
  {
   "cell_type": "code",
   "execution_count": 5,
   "metadata": {},
   "outputs": [
    {
     "data": {
      "text/html": [
       "<div>\n",
       "<style scoped>\n",
       "    .dataframe tbody tr th:only-of-type {\n",
       "        vertical-align: middle;\n",
       "    }\n",
       "\n",
       "    .dataframe tbody tr th {\n",
       "        vertical-align: top;\n",
       "    }\n",
       "\n",
       "    .dataframe thead th {\n",
       "        text-align: right;\n",
       "    }\n",
       "</style>\n",
       "<table border=\"1\" class=\"dataframe\">\n",
       "  <thead>\n",
       "    <tr style=\"text-align: right;\">\n",
       "      <th></th>\n",
       "      <th>Nufus</th>\n",
       "      <th>Yasam Suresi</th>\n",
       "      <th>Toplam Gelir</th>\n",
       "    </tr>\n",
       "  </thead>\n",
       "  <tbody>\n",
       "    <tr>\n",
       "      <th>0</th>\n",
       "      <td>8023.535946</td>\n",
       "      <td>56.260308</td>\n",
       "      <td>5009.416735</td>\n",
       "    </tr>\n",
       "    <tr>\n",
       "      <th>1</th>\n",
       "      <td>8006.711473</td>\n",
       "      <td>72.458523</td>\n",
       "      <td>5006.264681</td>\n",
       "    </tr>\n",
       "    <tr>\n",
       "      <th>2</th>\n",
       "      <td>8012.071845</td>\n",
       "      <td>53.194797</td>\n",
       "      <td>5004.419301</td>\n",
       "    </tr>\n",
       "    <tr>\n",
       "      <th>3</th>\n",
       "      <td>7997.258133</td>\n",
       "      <td>63.112164</td>\n",
       "      <td>4975.593659</td>\n",
       "    </tr>\n",
       "    <tr>\n",
       "      <th>4</th>\n",
       "      <td>7996.395730</td>\n",
       "      <td>53.910709</td>\n",
       "      <td>5001.744000</td>\n",
       "    </tr>\n",
       "  </tbody>\n",
       "</table>\n",
       "</div>"
      ],
      "text/plain": [
       "         Nufus  Yasam Suresi  Toplam Gelir\n",
       "0  8023.535946     56.260308   5009.416735\n",
       "1  8006.711473     72.458523   5006.264681\n",
       "2  8012.071845     53.194797   5004.419301\n",
       "3  7997.258133     63.112164   4975.593659\n",
       "4  7996.395730     53.910709   5001.744000"
      ]
     },
     "execution_count": 5,
     "metadata": {},
     "output_type": "execute_result"
    }
   ],
   "source": [
    "import numpy as np\n",
    "import pandas as pd\n",
    "ulkeler=pd.DataFrame()\n",
    "ulkeler['Nufus']=np.random.normal(8000, 10, 10000)\n",
    "ulkeler['Yasam Suresi']=np.random.normal(60, 10, 10000)\n",
    "ulkeler['Toplam Gelir']=np.random.normal(5000, 10, 10000)\n",
    "ulkeler.head()"
   ]
  },
  {
   "cell_type": "code",
   "execution_count": 6,
   "metadata": {},
   "outputs": [
    {
     "name": "stdout",
     "output_type": "stream",
     "text": [
      "60.0383133836986\n"
     ]
    }
   ],
   "source": [
    "print(np.mean(ulkeler['Yasam Suresi']))"
   ]
  },
  {
   "cell_type": "code",
   "execution_count": 7,
   "metadata": {},
   "outputs": [
    {
     "name": "stdout",
     "output_type": "stream",
     "text": [
      "4999.954359768228\n"
     ]
    }
   ],
   "source": [
    "print(np.median(ulkeler['Toplam Gelir']))"
   ]
  },
  {
   "cell_type": "code",
   "execution_count": 8,
   "metadata": {},
   "outputs": [
    {
     "name": "stdout",
     "output_type": "stream",
     "text": [
      "101.4258114841809\n"
     ]
    }
   ],
   "source": [
    "print(np.var(ulkeler['Nufus'], ddof=1))"
   ]
  },
  {
   "cell_type": "code",
   "execution_count": 9,
   "metadata": {},
   "outputs": [
    {
     "data": {
      "text/plain": [
       "9.9351723559899"
      ]
     },
     "execution_count": 9,
     "metadata": {},
     "output_type": "execute_result"
    }
   ],
   "source": [
    "np.std(ulkeler['Yasam Suresi'], ddof=1)"
   ]
  },
  {
   "cell_type": "code",
   "execution_count": 10,
   "metadata": {},
   "outputs": [
    {
     "data": {
      "text/plain": [
       "0.099351723559899"
      ]
     },
     "execution_count": 10,
     "metadata": {},
     "output_type": "execute_result"
    }
   ],
   "source": [
    "np.std(ulkeler['Yasam Suresi'] ,ddof=1) / np.sqrt(len(ulkeler['Yasam Suresi']))"
   ]
  },
  {
   "cell_type": "code",
   "execution_count": null,
   "metadata": {},
   "outputs": [],
   "source": []
  }
 ],
 "metadata": {
  "kernelspec": {
   "display_name": "Python 3",
   "language": "python",
   "name": "python3"
  },
  "language_info": {
   "codemirror_mode": {
    "name": "ipython",
    "version": 3
   },
   "file_extension": ".py",
   "mimetype": "text/x-python",
   "name": "python",
   "nbconvert_exporter": "python",
   "pygments_lexer": "ipython3",
   "version": "3.7.3"
  }
 },
 "nbformat": 4,
 "nbformat_minor": 2
}
