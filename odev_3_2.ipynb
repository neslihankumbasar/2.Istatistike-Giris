{
 "cells": [
  {
   "cell_type": "code",
   "execution_count": 1,
   "metadata": {},
   "outputs": [],
   "source": [
    "### Soru 1:\n",
    "## A şirketinin sattığı bilgisayarın bazılarının bozuk olduğu tespit edilmiştir. \n",
    "## Bilgisyar üreten 3 şirket (A, B ve C) olduğunu varsayımı altında, bu şirketlerin bilgisayar üretim miktarı ve bozuk üretim olasılıkları şu şekildedir:\n",
    "\n",
    "## Toplam Üretim Yüzdesi P(A)=0.40 P(B)=0.40 P(C)=0.20\n",
    "\n",
    "## Hatalı Üretim Olasılığı  P(D|A)=0.015 P(D|B)=0.020 P(D|C)=0.010\n",
    "\n",
    "## Rastgele seçilen bir bozuk bir bilgisayarın B şirketi tarafından üretilme olasılığı nedir?"
   ]
  },
  {
   "cell_type": "markdown",
   "metadata": {},
   "source": [
    "𝑃(𝐴) =0.40\n",
    "\n",
    "𝑃(𝐵)=0.40\n",
    "\n",
    "𝑃(𝐶)=0.20\n",
    "\n",
    "𝑃(𝐷|𝐴)=0.015\n",
    "\n",
    "𝑃(𝐷|𝐵)=0.020\n",
    "\n",
    "𝑃(𝐷|𝐶)=0.010\n",
    "\n",
    "𝑃(𝐴∩𝐷)=𝑃(𝐴)∗𝑃(𝐷|𝐴) = 0.40 * 0.015=0.006\n",
    "\n",
    "𝑃(𝐵∩𝐷)=𝑃(𝐵)∗𝑃(𝐷|𝐵) = 0.40 * 0.020=0.008\n",
    "\n",
    "𝑃(𝐶∩𝐷)=𝑃(𝐶)∗𝑃(𝐷|𝐵) =0.20 * 0.010=0.002\n",
    "\n",
    "𝑃(𝐷)=𝑃(𝐴∩𝐷)+𝑃(𝐵∩𝐷)+𝑃(𝐶∩𝐷) = 0.016\n",
    "\n",
    "𝑃(𝐵|𝐷)=𝑃(𝐵∩𝐷)/𝑃(𝐷) = 0.008/0.016 = 0.5"
   ]
  },
  {
   "cell_type": "code",
   "execution_count": null,
   "metadata": {},
   "outputs": [],
   "source": []
  }
 ],
 "metadata": {
  "kernelspec": {
   "display_name": "Python 3",
   "language": "python",
   "name": "python3"
  },
  "language_info": {
   "codemirror_mode": {
    "name": "ipython",
    "version": 3
   },
   "file_extension": ".py",
   "mimetype": "text/x-python",
   "name": "python",
   "nbconvert_exporter": "python",
   "pygments_lexer": "ipython3",
   "version": "3.7.3"
  }
 },
 "nbformat": 4,
 "nbformat_minor": 2
}
